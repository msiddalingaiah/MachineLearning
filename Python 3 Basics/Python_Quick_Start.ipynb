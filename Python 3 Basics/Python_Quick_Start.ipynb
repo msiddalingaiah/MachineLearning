{
  "nbformat": 4,
  "nbformat_minor": 0,
  "metadata": {
    "colab": {
      "name": "Python Quick Start.ipynb",
      "provenance": [],
      "collapsed_sections": []
    },
    "kernelspec": {
      "display_name": "Python 3",
      "language": "python",
      "name": "python3"
    },
    "language_info": {
      "codemirror_mode": {
        "name": "ipython",
        "version": 3
      },
      "file_extension": ".py",
      "mimetype": "text/x-python",
      "name": "python",
      "nbconvert_exporter": "python",
      "pygments_lexer": "ipython3",
      "version": "3.6.8"
    }
  },
  "cells": [
    {
      "cell_type": "markdown",
      "metadata": {
        "colab_type": "text",
        "id": "2EQ3aMz5KrjT"
      },
      "source": [
        "# Python Quick Start\n",
        "\n",
        "Python is a popular programming language used for many applications. Interestingly, it is widely used for machine learning and data science. This is due in part to it's simple syntax, interactive nature, and numerous machine learning libraries. It's easy to quickly test things out, which is important during data analysis or model development.\n",
        "\n",
        "We will focus on Python 3 here."
      ]
    },
    {
      "cell_type": "markdown",
      "metadata": {
        "colab_type": "text",
        "id": "HHHYgpbFL4-N"
      },
      "source": [
        "## Basic Syntax\n",
        "\n",
        "[Data types](https://docs.python.org/3.4/reference/datamodel.html), [operators](https://docs.python.org/3.4/library/operator.html), and variables. Python is interactive, so we can try things out by just entering code and running it in this notebook."
      ]
    },
    {
      "cell_type": "code",
      "metadata": {
        "colab_type": "code",
        "id": "e8wn727POHDT",
        "colab": {}
      },
      "source": [
        "# Numbers, e.g. int, float, bool, complex\n",
        "\n",
        "11"
      ],
      "execution_count": null,
      "outputs": []
    },
    {
      "cell_type": "code",
      "metadata": {
        "colab_type": "code",
        "id": "RPm4AG4kbEw0",
        "colab": {}
      },
      "source": [
        "3.1415926535897"
      ],
      "execution_count": null,
      "outputs": []
    },
    {
      "cell_type": "code",
      "metadata": {
        "colab_type": "code",
        "id": "bE7teAo0bIPE",
        "colab": {}
      },
      "source": [
        "True"
      ],
      "execution_count": null,
      "outputs": []
    },
    {
      "cell_type": "code",
      "metadata": {
        "colab_type": "code",
        "id": "qGOImoA2bKHa",
        "colab": {}
      },
      "source": [
        "# Complex or imaginary numbers\n",
        "\n",
        "1+2j"
      ],
      "execution_count": null,
      "outputs": []
    },
    {
      "cell_type": "code",
      "metadata": {
        "colab_type": "code",
        "id": "IzEjfhsSG5MP",
        "colab": {}
      },
      "source": [
        "# None is similar to null on other languages\n",
        "\n",
        "a = None\n",
        "print(a)"
      ],
      "execution_count": null,
      "outputs": []
    },
    {
      "cell_type": "code",
      "metadata": {
        "colab_type": "code",
        "id": "3bGPFjxJUjla",
        "colab": {}
      },
      "source": [
        "# type() can tell us the type of a variable\n",
        "\n",
        "a = 12.0\n",
        "type(a)"
      ],
      "execution_count": null,
      "outputs": []
    },
    {
      "cell_type": "code",
      "metadata": {
        "colab_type": "code",
        "id": "6J9HxRECRiDi",
        "colab": {}
      },
      "source": [
        "# Strings can be defined with single or double quotes\n",
        "\n",
        "'This is a string'"
      ],
      "execution_count": null,
      "outputs": []
    },
    {
      "cell_type": "code",
      "metadata": {
        "colab_type": "code",
        "id": "6iel--V5Rod7",
        "colab": {}
      },
      "source": [
        "\"This is also a string\""
      ],
      "execution_count": null,
      "outputs": []
    },
    {
      "cell_type": "code",
      "metadata": {
        "colab_type": "code",
        "id": "DkCP-uPTRsO4",
        "colab": {}
      },
      "source": [
        "# Get the length of a string\n",
        "\n",
        "len('some string')"
      ],
      "execution_count": null,
      "outputs": []
    },
    {
      "cell_type": "code",
      "metadata": {
        "colab_type": "code",
        "id": "vGnLAm1OR1L6",
        "colab": {}
      },
      "source": [
        "# Select a character within a string\n",
        "\n",
        "a = 'some string'\n",
        "a[0]"
      ],
      "execution_count": null,
      "outputs": []
    },
    {
      "cell_type": "code",
      "metadata": {
        "colab_type": "code",
        "id": "OwtwX0K6SgVz",
        "colab": {}
      },
      "source": [
        "# Python checks array bounds\n",
        "\n",
        "a = 'some string'\n",
        "# a[20]"
      ],
      "execution_count": null,
      "outputs": []
    },
    {
      "cell_type": "code",
      "metadata": {
        "colab_type": "code",
        "id": "xKZ3jhLISNzA",
        "colab": {}
      },
      "source": [
        "# Negative indexes select from the end\n",
        "\n",
        "a = 'some string'\n",
        "a[-1]"
      ],
      "execution_count": null,
      "outputs": []
    },
    {
      "cell_type": "code",
      "metadata": {
        "colab_type": "code",
        "id": "Osb-GVD7SBHh",
        "colab": {}
      },
      "source": [
        "# Select a range of characters, uses a left closed, right open interval\n",
        "\n",
        "a = 'some string'\n",
        "a[0:5]"
      ],
      "execution_count": null,
      "outputs": []
    },
    {
      "cell_type": "code",
      "metadata": {
        "colab_type": "code",
        "id": "14ciHg-BSava",
        "colab": {}
      },
      "source": [
        "# Negative index work with ranges also\n",
        "\n",
        "a = 'some string'\n",
        "a[5:-2]"
      ],
      "execution_count": null,
      "outputs": []
    },
    {
      "cell_type": "markdown",
      "metadata": {
        "colab_type": "text",
        "id": "Kd3FLpHXaT2N"
      },
      "source": [
        "### String formatting\n",
        "\n",
        "Python supports multiple styles of string formatting:\n",
        "\n",
        "\n",
        "*   [printf](https://docs.python.org/3/library/stdtypes.html#printf-style-string-formatting)\n",
        "*   [format()](https://docs.python.org/3.4/library/string.html#formatspec)\n",
        "\n"
      ]
    },
    {
      "cell_type": "code",
      "metadata": {
        "colab_type": "code",
        "id": "AVtaLbChTXc2",
        "colab": {}
      },
      "source": [
        "# printf style formatting\n",
        "\n",
        "answer = 42\n",
        "'The answer to the ultimate question of life, the universe, and everything is %d' % answer"
      ],
      "execution_count": null,
      "outputs": []
    },
    {
      "cell_type": "code",
      "metadata": {
        "id": "1vTX4IOt-HEM",
        "colab_type": "code",
        "colab": {}
      },
      "source": [
        "# multiple values\n",
        "\n",
        "length = 8.0\n",
        "width = 4.0\n",
        "'The dimensions are %.2f feet long and %.2f feet wide' % (length, width)"
      ],
      "execution_count": null,
      "outputs": []
    },
    {
      "cell_type": "code",
      "metadata": {
        "id": "L_Z6BKiw-HEP",
        "colab_type": "code",
        "colab": {}
      },
      "source": [
        "# format(...) method\n",
        "\n",
        "answer = 42\n",
        "'The answer to the ultimate question of life, the universe, and everything is {0:d}'.format(answer)"
      ],
      "execution_count": null,
      "outputs": []
    },
    {
      "cell_type": "code",
      "metadata": {
        "id": "TkqrL4hG-HES",
        "colab_type": "code",
        "colab": {}
      },
      "source": [
        "# named values\n",
        "\n",
        "length = 8.0\n",
        "width = 4.0\n",
        "'The dimensions are {length:.2f} feet long and {width:.2f} feet wide'.format(width=width, length=length)"
      ],
      "execution_count": null,
      "outputs": []
    },
    {
      "cell_type": "markdown",
      "metadata": {
        "colab_type": "text",
        "id": "5m4XM7qjWfJo"
      },
      "source": [
        "### Type Conversion"
      ]
    },
    {
      "cell_type": "code",
      "metadata": {
        "colab_type": "code",
        "id": "JMzoX-ipWkcA",
        "colab": {}
      },
      "source": [
        "pi = 3.1415926535897\n",
        "type(pi)"
      ],
      "execution_count": null,
      "outputs": []
    },
    {
      "cell_type": "code",
      "metadata": {
        "colab_type": "code",
        "id": "0BBZv2o4Wu6g",
        "colab": {}
      },
      "source": [
        "int(pi)"
      ],
      "execution_count": null,
      "outputs": []
    },
    {
      "cell_type": "code",
      "metadata": {
        "colab_type": "code",
        "id": "FzbZ1NQ4W-Xg",
        "colab": {}
      },
      "source": [
        "complex(pi)"
      ],
      "execution_count": null,
      "outputs": []
    },
    {
      "cell_type": "code",
      "metadata": {
        "colab_type": "code",
        "id": "4avOgb6iWxrx",
        "colab": {}
      },
      "source": [
        "int('42')"
      ],
      "execution_count": null,
      "outputs": []
    },
    {
      "cell_type": "code",
      "metadata": {
        "colab_type": "code",
        "id": "bSgBvoNeW3hJ",
        "colab": {}
      },
      "source": [
        "str(42)"
      ],
      "execution_count": null,
      "outputs": []
    },
    {
      "cell_type": "code",
      "metadata": {
        "colab_type": "code",
        "id": "epmKkhMIGo8I",
        "colab": {}
      },
      "source": [
        "bool(0)"
      ],
      "execution_count": null,
      "outputs": []
    },
    {
      "cell_type": "markdown",
      "metadata": {
        "id": "t0dj7cDy-HEh",
        "colab_type": "text"
      },
      "source": [
        "## Flow Control\n",
        "\n",
        "Spaces or tabs are used to group statements together. Unlike many languages today, whitespace is significant in Python."
      ]
    },
    {
      "cell_type": "code",
      "metadata": {
        "id": "n-bkn6PS-HEh",
        "colab_type": "code",
        "colab": {}
      },
      "source": [
        "for i in range(5):\n",
        "    print('%d, squared: %d' % (i, i*i))"
      ],
      "execution_count": null,
      "outputs": []
    },
    {
      "cell_type": "code",
      "metadata": {
        "id": "mRnSR1Lh-HEj",
        "colab_type": "code",
        "colab": {}
      },
      "source": [
        "i = 0\n",
        "while i < 5:\n",
        "    print('%d, squared: %d' % (i, i*i))\n",
        "    i = i + 1"
      ],
      "execution_count": null,
      "outputs": []
    },
    {
      "cell_type": "code",
      "metadata": {
        "id": "hrPf6NNw-HEl",
        "colab_type": "code",
        "colab": {}
      },
      "source": [
        "for i in range(1, 10):\n",
        "    if i % 2 == 0:\n",
        "        print('%d is divisible by two' % (i))\n",
        "    elif i % 3 == 0:\n",
        "        print('%d is divisible by three' % (i))\n",
        "    else:\n",
        "        print('%d is not divisible by two or three' % (i))"
      ],
      "execution_count": null,
      "outputs": []
    },
    {
      "cell_type": "markdown",
      "metadata": {
        "colab_type": "text",
        "id": "MiNZ8-THMGaQ"
      },
      "source": [
        "## Data Structures\n",
        "\n",
        "### Lists\n",
        "\n",
        "Lists contain any number of ordered values."
      ]
    },
    {
      "cell_type": "code",
      "metadata": {
        "colab_type": "code",
        "id": "n6zfxlBYQwqc",
        "colab": {}
      },
      "source": [
        "[1, 2, 3]"
      ],
      "execution_count": null,
      "outputs": []
    },
    {
      "cell_type": "code",
      "metadata": {
        "colab_type": "code",
        "id": "wgIvI40zQ2iJ",
        "colab": {}
      },
      "source": [
        "a = [1, 2, 3]\n",
        "len(a)"
      ],
      "execution_count": null,
      "outputs": []
    },
    {
      "cell_type": "code",
      "metadata": {
        "id": "N3PdtqqA-HEr",
        "colab_type": "code",
        "colab": {}
      },
      "source": [
        "# Iterate through a list\n",
        "\n",
        "for value in a:\n",
        "    print('Value is %d' % value)"
      ],
      "execution_count": null,
      "outputs": []
    },
    {
      "cell_type": "code",
      "metadata": {
        "id": "0Eh7hwMB-HEt",
        "colab_type": "code",
        "colab": {}
      },
      "source": [
        "a = [1, 2, 3]\n",
        "a.append(4)\n",
        "a"
      ],
      "execution_count": null,
      "outputs": []
    },
    {
      "cell_type": "code",
      "metadata": {
        "colab_type": "code",
        "id": "33i5smW9HadB",
        "colab": {}
      },
      "source": [
        "# Add two lists\n",
        "\n",
        "a = [1, 2, 3]\n",
        "b = [7, 8, 9]\n",
        "\n",
        "a+b"
      ],
      "execution_count": null,
      "outputs": []
    },
    {
      "cell_type": "code",
      "metadata": {
        "colab_type": "code",
        "id": "sN4Oe48mHkkw",
        "colab": {}
      },
      "source": [
        "# List comprehension\n",
        "\n",
        "a = [2*i for i in range(10)]\n",
        "a"
      ],
      "execution_count": null,
      "outputs": []
    },
    {
      "cell_type": "code",
      "metadata": {
        "colab_type": "code",
        "id": "4C1d30LxHsK4",
        "colab": {}
      },
      "source": [
        "# Reverse a list\n",
        "\n",
        "a = [2*i for i in range(10)]\n",
        "a.reverse()\n",
        "a"
      ],
      "execution_count": null,
      "outputs": []
    },
    {
      "cell_type": "code",
      "metadata": {
        "colab_type": "code",
        "id": "SSERRxx8Ic4c",
        "colab": {}
      },
      "source": [
        "a.sort()\n",
        "a"
      ],
      "execution_count": null,
      "outputs": []
    },
    {
      "cell_type": "code",
      "metadata": {
        "id": "o_CdzwRP-HE0",
        "colab_type": "code",
        "colab": {}
      },
      "source": [
        "a[0]"
      ],
      "execution_count": null,
      "outputs": []
    },
    {
      "cell_type": "markdown",
      "metadata": {
        "id": "2V4Mrj3L-HE3",
        "colab_type": "text"
      },
      "source": [
        "### Dictionaries\n",
        "\n",
        "Dictionaries contain key-value pairs. Similar to Java HashMap."
      ]
    },
    {
      "cell_type": "code",
      "metadata": {
        "id": "ObsueG97-HE3",
        "colab_type": "code",
        "colab": {}
      },
      "source": [
        "band = { 'David St. Hubbins':'Rhythm Guitar', 'Nigel Tufnel':'Lead Guitar', 'Derek Smalls':'Bass', 'Drums':'Unknown' }\n",
        "band"
      ],
      "execution_count": null,
      "outputs": []
    },
    {
      "cell_type": "code",
      "metadata": {
        "id": "PAQEMCJK-HE5",
        "colab_type": "code",
        "colab": {}
      },
      "source": [
        "for name in band:\n",
        "    print('Name: %s, instrument: %s' % (name, band[name]))"
      ],
      "execution_count": null,
      "outputs": []
    },
    {
      "cell_type": "code",
      "metadata": {
        "id": "CdIDQ7qs-HE7",
        "colab_type": "code",
        "colab": {}
      },
      "source": [
        "for name, instrument in band.items():\n",
        "    print('Name: %s, instrument: %s' % (name, instrument))"
      ],
      "execution_count": null,
      "outputs": []
    },
    {
      "cell_type": "code",
      "metadata": {
        "id": "IkHtJSRg-HE9",
        "colab_type": "code",
        "colab": {}
      },
      "source": [
        "band['Drums'] = 'John \"Stumpy\" Pepys'\n",
        "\n",
        "for name in band:\n",
        "    print('Name: %s, instrument: %s' % (name, band[name]))"
      ],
      "execution_count": null,
      "outputs": []
    },
    {
      "cell_type": "code",
      "metadata": {
        "id": "3msd961v-HE_",
        "colab_type": "code",
        "colab": {}
      },
      "source": [
        "del band['Drums']"
      ],
      "execution_count": null,
      "outputs": []
    },
    {
      "cell_type": "markdown",
      "metadata": {
        "colab_type": "text",
        "id": "zH7zPFeoMCU6"
      },
      "source": [
        "## Functions and Methods\n",
        "\n",
        "Functions and methods are similar, but differ slightly."
      ]
    },
    {
      "cell_type": "code",
      "metadata": {
        "colab_type": "code",
        "id": "2BS31fldUKDz",
        "colab": {}
      },
      "source": [
        "# len() is a method\n",
        "\n",
        "a = 'some string'\n",
        "len(a)"
      ],
      "execution_count": null,
      "outputs": []
    },
    {
      "cell_type": "code",
      "metadata": {
        "colab_type": "code",
        "id": "bL_N3deVUQWK",
        "colab": {}
      },
      "source": [
        "# upper() is a method\n",
        "\n",
        "a = 'some string'\n",
        "a.upper()"
      ],
      "execution_count": null,
      "outputs": []
    },
    {
      "cell_type": "code",
      "metadata": {
        "colab_type": "code",
        "id": "e2ps7j1TUe4Z",
        "colab": {}
      },
      "source": [
        "# dir() lists attributes and methods of an object\n",
        "\n",
        "a = 'some string'\n",
        "#dir(a)\n",
        "a.isalpha()"
      ],
      "execution_count": null,
      "outputs": []
    },
    {
      "cell_type": "code",
      "metadata": {
        "colab_type": "code",
        "id": "pVXM5ZACVhnT",
        "colab": {}
      },
      "source": [
        "# Use def to define a function\n",
        "\n",
        "def average(array):\n",
        "  n = len(array)\n",
        "  total = 0.0\n",
        "  for a in array:\n",
        "    total = total + a\n",
        "  return total / n\n",
        "\n",
        "average([1, 2, 3])"
      ],
      "execution_count": null,
      "outputs": []
    },
    {
      "cell_type": "code",
      "metadata": {
        "colab_type": "code",
        "id": "bSC0VjeDXNXY",
        "colab": {}
      },
      "source": [
        "# Functions can return tuples\n",
        "\n",
        "def statistics(array):\n",
        "  avg = average(array)\n",
        "  n = len(array)\n",
        "  total = 0.0\n",
        "  for a in array:\n",
        "    variance = a - avg\n",
        "    total += variance ** 2\n",
        "  stddev = total / n\n",
        "  return (avg, variance, total, stddev)\n",
        "\n",
        "statistics([1, 2, 3])"
      ],
      "execution_count": null,
      "outputs": []
    },
    {
      "cell_type": "code",
      "metadata": {
        "colab_type": "code",
        "id": "6NbDMklxX-hs",
        "colab": {}
      },
      "source": [
        "# Assign to a tuple\n",
        "\n",
        "(avg, variance, total, stddev) = statistics([1, 2, 3])\n",
        "print('The average is %.2f and the variance is %.2f and the total is %.2f and standard deviation is %.2f' % (avg, variance, total, stddev))"
      ],
      "execution_count": null,
      "outputs": []
    },
    {
      "cell_type": "markdown",
      "metadata": {
        "colab_type": "text",
        "id": "6D7CKgOPQSzF"
      },
      "source": [
        "## Classes\n",
        "\n",
        "Use the class keyword to define classses."
      ]
    },
    {
      "cell_type": "code",
      "metadata": {
        "colab_type": "code",
        "id": "9ztIx4IjKqvW",
        "colab": {}
      },
      "source": [
        "class BankAccount(object):\n",
        "  def __init__(self, accountNumber, initialBalance, interestRate):\n",
        "    self.accountNumber = accountNumber\n",
        "    self.balance = initialBalance\n",
        "    self.interestRate = interestRate\n",
        "  \n",
        "  def deposit(self, amount):\n",
        "    self.balance += amount\n",
        "  \n",
        "  def withdraw(self, amount):\n",
        "    if self.balance >= amount:\n",
        "      self.balance -= amount\n",
        "      return amount\n",
        "    raise Exception('Insufficient balance for withdrawal: only %.2f in account %d' % (self.balance, self.accountNumber))\n",
        "  \n",
        "  def addInterest(self):\n",
        "    self.balance *= 1.0 + self.interestRate/100.0\n",
        "  \n",
        "  def transferTo(self, otherAccount, amount):\n",
        "    otherAccount.deposit(self.withdraw(amount))\n",
        "  \n",
        "  def __str__(self):\n",
        "    return 'Account %d, balance: %.2f' % (self.accountNumber, self.balance)"
      ],
      "execution_count": null,
      "outputs": []
    },
    {
      "cell_type": "code",
      "metadata": {
        "colab_type": "code",
        "id": "RR7vPMAtDh-7",
        "colab": {}
      },
      "source": [
        "checking = BankAccount(101, 100.0, 1.0)\n",
        "savings = BankAccount(201, 1000.0, 5.0)\n",
        "\n",
        "print(checking)\n",
        "print(savings)\n",
        "checking.addInterest()\n",
        "savings.addInterest()\n",
        "\n",
        "savings.transferTo(checking, 500)\n",
        "\n",
        "print(checking)\n",
        "print(savings)\n",
        "\n",
        "# savings.transferTo(checking, 1000)"
      ],
      "execution_count": null,
      "outputs": []
    },
    {
      "cell_type": "code",
      "metadata": {
        "id": "IdPix_mWnqKJ",
        "colab_type": "code",
        "colab": {}
      },
      "source": [
        "#savings.transferTo(checking, 900)"
      ],
      "execution_count": null,
      "outputs": []
    },
    {
      "cell_type": "markdown",
      "metadata": {
        "colab_type": "text",
        "id": "URDoWEMQJEdg"
      },
      "source": [
        "## Reading and Writing files"
      ]
    },
    {
      "cell_type": "code",
      "metadata": {
        "colab_type": "code",
        "id": "A_v0ZAX6JIwf",
        "colab": {}
      },
      "source": [
        "# Write a file, 'w' opens a file for writing, 'a' appends to an existing file\n",
        "\n",
        "with open('somefile.txt', 'w') as f:\n",
        "  f.write('First line\\n')\n",
        "  f.write('Second line\\n')"
      ],
      "execution_count": null,
      "outputs": []
    },
    {
      "cell_type": "code",
      "metadata": {
        "colab_type": "code",
        "id": "jx3mqmASJt_X",
        "colab": {}
      },
      "source": [
        "# strip() removes the trailing \\n\n",
        "\n",
        "with open('somefile.txt') as f:\n",
        "  print(f.readline().strip())"
      ],
      "execution_count": null,
      "outputs": []
    },
    {
      "cell_type": "code",
      "metadata": {
        "colab_type": "code",
        "id": "k2lTneQUKRfD",
        "colab": {}
      },
      "source": [
        "with open('somefile.txt') as f:\n",
        "  print(f.readlines())"
      ],
      "execution_count": null,
      "outputs": []
    },
    {
      "cell_type": "markdown",
      "metadata": {
        "colab_type": "text",
        "id": "cxv30sH9bm4N"
      },
      "source": [
        "## Modules\n",
        "\n",
        "[import](https://docs.python.org/3/reference/simple_stmts.html#import) can be used to refer to modules."
      ]
    },
    {
      "cell_type": "code",
      "metadata": {
        "colab_type": "code",
        "id": "pYjERSx-bmQJ",
        "colab": {}
      },
      "source": [
        "import matplotlib.pyplot as plt\n",
        "import math\n",
        "\n",
        "x = [0.1*i for i in range(100)]\n",
        "sin = [math.sin(i) for i in x]\n",
        "cos = [math.cos(i) for i in x]\n",
        "\n",
        "plt.plot(x, sin, label='sin(x)', color='blue', linewidth=2.5)\n",
        "plt.plot(x, cos, label='cos(x)', color='red', linewidth=2.5)\n",
        "plt.ylabel('y')\n",
        "plt.xlabel('x')\n",
        "plt.legend(loc='best')\n",
        "plt.show()"
      ],
      "execution_count": null,
      "outputs": []
    },
    {
      "cell_type": "markdown",
      "metadata": {
        "id": "_tiTwpkL0Qgf",
        "colab_type": "text"
      },
      "source": [
        "## Passwords\n",
        "Hardcoding passwords in your notebook is a security risk. \n",
        "The getpass module can be used to prompt the user for a password while masking keystrokes."
      ]
    },
    {
      "cell_type": "code",
      "metadata": {
        "id": "-IQxinbu-HFe",
        "colab_type": "code",
        "colab": {}
      },
      "source": [
        "import getpass"
      ],
      "execution_count": null,
      "outputs": []
    },
    {
      "cell_type": "code",
      "metadata": {
        "id": "rhtgn9bH0Mvg",
        "colab_type": "code",
        "colab": {}
      },
      "source": [
        "password = getpass.getpass('Your Password')"
      ],
      "execution_count": null,
      "outputs": []
    },
    {
      "cell_type": "code",
      "metadata": {
        "id": "7k1KfFhT0pPE",
        "colab_type": "code",
        "colab": {}
      },
      "source": [
        "password"
      ],
      "execution_count": null,
      "outputs": []
    },
    {
      "cell_type": "markdown",
      "metadata": {
        "id": "S1lO3hXB7lIJ",
        "colab_type": "text"
      },
      "source": [
        "# **What you learned in this section** \n",
        "In this section, you learned\n",
        "\n",
        "1. Basic python syntax\n",
        "\n",
        "2. How to format text\n",
        "\n",
        "3. How to create and manipulate lists and dictionaries\n",
        "\n",
        "4. How to define and call Python functions\n",
        "\n",
        "5. How to define classes and create objects\n",
        "\n",
        "6. File I/O and modules\n",
        "\n",
        "7. Passwords"
      ]
    }
  ]
}